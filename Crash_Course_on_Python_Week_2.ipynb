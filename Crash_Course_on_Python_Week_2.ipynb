{
  "nbformat": 4,
  "nbformat_minor": 0,
  "metadata": {
    "colab": {
      "provenance": [],
      "authorship_tag": "ABX9TyNrgWo0CGPs6Zt/jSFzXfry",
      "include_colab_link": true
    },
    "kernelspec": {
      "name": "python3",
      "display_name": "Python 3"
    },
    "language_info": {
      "name": "python"
    }
  },
  "cells": [
    {
      "cell_type": "markdown",
      "metadata": {
        "id": "view-in-github",
        "colab_type": "text"
      },
      "source": [
        "<a href=\"https://colab.research.google.com/github/Fahrililham/Coursera---Google-IT-Automation-with-Python/blob/main/Crash_Course_on_Python_Week_2.ipynb\" target=\"_parent\"><img src=\"https://colab.research.google.com/assets/colab-badge.svg\" alt=\"Open In Colab\"/></a>"
      ]
    },
    {
      "cell_type": "markdown",
      "source": [
        "### Data Types on Python"
      ],
      "metadata": {
        "id": "BEJ-u81zhGOd"
      }
    },
    {
      "cell_type": "markdown",
      "source": [
        "Below are examples of some data types."
      ],
      "metadata": {
        "id": "T0tO1fynhRgr"
      }
    },
    {
      "cell_type": "code",
      "source": [
        "print(7+8)    # type data : integer\n",
        "print(\"Hello \" + \"world\")   # type data : string"
      ],
      "metadata": {
        "colab": {
          "base_uri": "https://localhost:8080/"
        },
        "id": "EF6X-JDFhflk",
        "outputId": "3b55f132-0357-4119-9487-27ad02adef0a"
      },
      "execution_count": 1,
      "outputs": [
        {
          "output_type": "stream",
          "name": "stdout",
          "text": [
            "15\n",
            "Hello world\n"
          ]
        }
      ]
    },
    {
      "cell_type": "markdown",
      "source": [
        "Then here example if adding between type data integer and string."
      ],
      "metadata": {
        "id": "u7OgrZzhh2Qk"
      }
    },
    {
      "cell_type": "code",
      "source": [
        "print(7 + \"8\")"
      ],
      "metadata": {
        "colab": {
          "base_uri": "https://localhost:8080/",
          "height": 166
        },
        "id": "iLwL_n1uiCQE",
        "outputId": "b139aa6d-411d-44d7-c995-abb9f9bb1061"
      },
      "execution_count": 2,
      "outputs": [
        {
          "output_type": "error",
          "ename": "TypeError",
          "evalue": "ignored",
          "traceback": [
            "\u001b[0;31m---------------------------------------------------------------------------\u001b[0m",
            "\u001b[0;31mTypeError\u001b[0m                                 Traceback (most recent call last)",
            "\u001b[0;32m<ipython-input-2-3896193e7273>\u001b[0m in \u001b[0;36m<cell line: 1>\u001b[0;34m()\u001b[0m\n\u001b[0;32m----> 1\u001b[0;31m \u001b[0mprint\u001b[0m\u001b[0;34m(\u001b[0m\u001b[0;36m7\u001b[0m \u001b[0;34m+\u001b[0m \u001b[0;34m\"8\"\u001b[0m\u001b[0;34m)\u001b[0m\u001b[0;34m\u001b[0m\u001b[0;34m\u001b[0m\u001b[0m\n\u001b[0m",
            "\u001b[0;31mTypeError\u001b[0m: unsupported operand type(s) for +: 'int' and 'str'"
          ]
        }
      ]
    },
    {
      "cell_type": "markdown",
      "source": [
        "Don't worry if the above code doesn't run smoothly. There you can see there is a \"TypeError\" warning so we can know what the problem is in the code."
      ],
      "metadata": {
        "id": "-1Ae0Mi4iJEs"
      }
    },
    {
      "cell_type": "markdown",
      "source": [
        "Then if we want to know the form of the data type of a data we can use this syntax."
      ],
      "metadata": {
        "id": "6Sk1x7Xei9yk"
      }
    },
    {
      "cell_type": "code",
      "source": [
        "print(type(\"a\"))\n",
        "print(type(2))\n",
        "print(type(2.5))"
      ],
      "metadata": {
        "colab": {
          "base_uri": "https://localhost:8080/"
        },
        "id": "HM1gJ5yQjVut",
        "outputId": "091c7498-163c-4270-dedc-a97956ad6a21"
      },
      "execution_count": 3,
      "outputs": [
        {
          "output_type": "stream",
          "name": "stdout",
          "text": [
            "<class 'str'>\n",
            "<class 'int'>\n",
            "<class 'float'>\n"
          ]
        }
      ]
    },
    {
      "cell_type": "markdown",
      "source": [
        "### Variables on Python"
      ],
      "metadata": {
        "id": "72Im3eEKj9lM"
      }
    },
    {
      "cell_type": "markdown",
      "source": [
        "In Python there are have several variable naming restrictions.\n",
        "\n",
        "\n",
        "*   Don't use keywords or functions that Pyhton reserves for its own. (Example : print)\n",
        "*   Don't use spaces\n",
        "*   Must start with a letter or an underscore(_)\n",
        "*   Must be made up of only letters, numbers, and underscores(_)\n",
        "\n",
        "For example:\n",
        "*   i_am_a_variable (valid)\n",
        "*   i_am_a_variable2 (valid)\n",
        "*   1_is_a_number (invalid)\n",
        "*   apples_&_oranges (invalid)"
      ],
      "metadata": {
        "id": "G_WjdFQhkG9l"
      }
    },
    {
      "cell_type": "markdown",
      "source": [
        "In Python variables are **case sensitive**.  Lowercasename, uppercasename and ALLCAPSNAME are all valid and different variable names, and that rule on variables is invariable."
      ],
      "metadata": {
        "id": "YjkYza00r6kG"
      }
    },
    {
      "cell_type": "markdown",
      "source": [
        "Below is an example of using variables."
      ],
      "metadata": {
        "id": "g3poDEVSqm_m"
      }
    },
    {
      "cell_type": "code",
      "source": [
        "length = 10\n",
        "width = 2\n",
        "area = length * width"
      ],
      "metadata": {
        "id": "4udl6fF-q3Uc"
      },
      "execution_count": 4,
      "outputs": []
    },
    {
      "cell_type": "markdown",
      "source": [
        "The process of storing a value inside a variable is called **assignment**. Here we assign the length variable the value of 10. We assign the width variable the value of two and we assign the area variable with the result of the expression length times width."
      ],
      "metadata": {
        "id": "Fr2Am6G9rB3t"
      }
    },
    {
      "cell_type": "markdown",
      "source": [
        "An **expression** is a combination of numbers, symbols or other variables that produce a result when evaluated. In this example, we are multiplying the value of two variables to arrive at the value that we want."
      ],
      "metadata": {
        "id": "OZVDKS6rrlNe"
      }
    },
    {
      "cell_type": "markdown",
      "source": [
        "Finally, we can use print function to display the value of the variable area."
      ],
      "metadata": {
        "id": "C59_qz8mrpDG"
      }
    },
    {
      "cell_type": "code",
      "source": [
        "print(area)"
      ],
      "metadata": {
        "colab": {
          "base_uri": "https://localhost:8080/"
        },
        "id": "jkqbHA-Trx-t",
        "outputId": "3603f698-4791-4e27-b7ca-8a873960b9ad"
      },
      "execution_count": 5,
      "outputs": [
        {
          "output_type": "stream",
          "name": "stdout",
          "text": [
            "20\n"
          ]
        }
      ]
    },
    {
      "cell_type": "markdown",
      "source": [
        "Then there is the **implicit conversion**. The interpreter automatically converts one data type into another."
      ],
      "metadata": {
        "id": "kALZ_dYAsy_9"
      }
    },
    {
      "cell_type": "code",
      "source": [
        "print(7 + 8.5)  # integer + float, computer automatically converting integer to float\n",
        "print(\"a\"+\"b\"+\"c\")"
      ],
      "metadata": {
        "colab": {
          "base_uri": "https://localhost:8080/"
        },
        "id": "7sx7Y1GIth9v",
        "outputId": "d6d337be-900d-4d8a-80ae-0e495399492d"
      },
      "execution_count": 7,
      "outputs": [
        {
          "output_type": "stream",
          "name": "stdout",
          "text": [
            "15.5\n",
            "abc\n"
          ]
        }
      ]
    },
    {
      "cell_type": "markdown",
      "source": [
        "There is also an **explicit conversion**. In Python, to convert between one data type and another, we call a function with the name of the type we're converting to. "
      ],
      "metadata": {
        "id": "GFDmGU4UuEte"
      }
    },
    {
      "cell_type": "code",
      "source": [
        "base = 6\n",
        "height = 3\n",
        "area = (base*height)/2\n",
        "print(\"The area of the triangle is: \" + str(area)) # str() to convert integers to strings"
      ],
      "metadata": {
        "colab": {
          "base_uri": "https://localhost:8080/"
        },
        "id": "NAHbAT9Nu10-",
        "outputId": "79b2eb9c-81b7-44da-de44-a2e829c8e2e7"
      },
      "execution_count": 8,
      "outputs": [
        {
          "output_type": "stream",
          "name": "stdout",
          "text": [
            "The area of the triangle is: 9.0\n"
          ]
        }
      ]
    },
    {
      "cell_type": "code",
      "source": [],
      "metadata": {
        "id": "dSHpCKPevGGG"
      },
      "execution_count": null,
      "outputs": []
    }
  ]
}