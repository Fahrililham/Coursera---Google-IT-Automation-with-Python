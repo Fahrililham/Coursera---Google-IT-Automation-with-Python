{
  "nbformat": 4,
  "nbformat_minor": 0,
  "metadata": {
    "colab": {
      "provenance": [],
      "authorship_tag": "ABX9TyPQ+Qy/P3U6stMCJGFWcK7K",
      "include_colab_link": true
    },
    "kernelspec": {
      "name": "python3",
      "display_name": "Python 3"
    },
    "language_info": {
      "name": "python"
    }
  },
  "cells": [
    {
      "cell_type": "markdown",
      "metadata": {
        "id": "view-in-github",
        "colab_type": "text"
      },
      "source": [
        "<a href=\"https://colab.research.google.com/github/Fahrililham/Coursera---Google-IT-Automation-with-Python/blob/main/Crash_Course_on_Python_Week_2.ipynb\" target=\"_parent\"><img src=\"https://colab.research.google.com/assets/colab-badge.svg\" alt=\"Open In Colab\"/></a>"
      ]
    },
    {
      "cell_type": "markdown",
      "source": [
        "# Expressions & Variables, Functions, Conditionals"
      ],
      "metadata": {
        "id": "pI2hWC7Rwll2"
      }
    },
    {
      "cell_type": "markdown",
      "source": [
        "### Data Types on Python"
      ],
      "metadata": {
        "id": "BEJ-u81zhGOd"
      }
    },
    {
      "cell_type": "markdown",
      "source": [
        "Below are examples of some data types."
      ],
      "metadata": {
        "id": "T0tO1fynhRgr"
      }
    },
    {
      "cell_type": "code",
      "source": [
        "print(7+8)    # type data : integer\n",
        "print(\"Hello \" + \"world\")   # type data : string"
      ],
      "metadata": {
        "colab": {
          "base_uri": "https://localhost:8080/"
        },
        "id": "EF6X-JDFhflk",
        "outputId": "3b55f132-0357-4119-9487-27ad02adef0a"
      },
      "execution_count": null,
      "outputs": [
        {
          "output_type": "stream",
          "name": "stdout",
          "text": [
            "15\n",
            "Hello world\n"
          ]
        }
      ]
    },
    {
      "cell_type": "markdown",
      "source": [
        "Then here example if adding between type data integer and string."
      ],
      "metadata": {
        "id": "u7OgrZzhh2Qk"
      }
    },
    {
      "cell_type": "code",
      "source": [
        "print(7 + \"8\")"
      ],
      "metadata": {
        "colab": {
          "base_uri": "https://localhost:8080/",
          "height": 166
        },
        "id": "iLwL_n1uiCQE",
        "outputId": "b139aa6d-411d-44d7-c995-abb9f9bb1061"
      },
      "execution_count": null,
      "outputs": [
        {
          "output_type": "error",
          "ename": "TypeError",
          "evalue": "ignored",
          "traceback": [
            "\u001b[0;31m---------------------------------------------------------------------------\u001b[0m",
            "\u001b[0;31mTypeError\u001b[0m                                 Traceback (most recent call last)",
            "\u001b[0;32m<ipython-input-2-3896193e7273>\u001b[0m in \u001b[0;36m<cell line: 1>\u001b[0;34m()\u001b[0m\n\u001b[0;32m----> 1\u001b[0;31m \u001b[0mprint\u001b[0m\u001b[0;34m(\u001b[0m\u001b[0;36m7\u001b[0m \u001b[0;34m+\u001b[0m \u001b[0;34m\"8\"\u001b[0m\u001b[0;34m)\u001b[0m\u001b[0;34m\u001b[0m\u001b[0;34m\u001b[0m\u001b[0m\n\u001b[0m",
            "\u001b[0;31mTypeError\u001b[0m: unsupported operand type(s) for +: 'int' and 'str'"
          ]
        }
      ]
    },
    {
      "cell_type": "markdown",
      "source": [
        "Don't worry if the above code doesn't run smoothly. There you can see there is a \"TypeError\" warning so we can know what the problem is in the code."
      ],
      "metadata": {
        "id": "-1Ae0Mi4iJEs"
      }
    },
    {
      "cell_type": "markdown",
      "source": [
        "Then if we want to know the form of the data type of a data we can use this syntax."
      ],
      "metadata": {
        "id": "6Sk1x7Xei9yk"
      }
    },
    {
      "cell_type": "code",
      "source": [
        "print(type(\"a\"))\n",
        "print(type(2))\n",
        "print(type(2.5))"
      ],
      "metadata": {
        "colab": {
          "base_uri": "https://localhost:8080/"
        },
        "id": "HM1gJ5yQjVut",
        "outputId": "091c7498-163c-4270-dedc-a97956ad6a21"
      },
      "execution_count": null,
      "outputs": [
        {
          "output_type": "stream",
          "name": "stdout",
          "text": [
            "<class 'str'>\n",
            "<class 'int'>\n",
            "<class 'float'>\n"
          ]
        }
      ]
    },
    {
      "cell_type": "markdown",
      "source": [
        "### Variables on Python"
      ],
      "metadata": {
        "id": "72Im3eEKj9lM"
      }
    },
    {
      "cell_type": "markdown",
      "source": [
        "In Python there are have several variable naming restrictions.\n",
        "\n",
        "\n",
        "*   Don't use keywords or functions that Pyhton reserves for its own. (Example : print)\n",
        "*   Don't use spaces\n",
        "*   Must start with a letter or an underscore(_)\n",
        "*   Must be made up of only letters, numbers, and underscores(_)\n",
        "\n",
        "For example:\n",
        "*   i_am_a_variable (valid)\n",
        "*   i_am_a_variable2 (valid)\n",
        "*   1_is_a_number (invalid)\n",
        "*   apples_&_oranges (invalid)"
      ],
      "metadata": {
        "id": "G_WjdFQhkG9l"
      }
    },
    {
      "cell_type": "markdown",
      "source": [
        "In Python variables are **case sensitive**.  Lowercasename, uppercasename and ALLCAPSNAME are all valid and different variable names, and that rule on variables is invariable."
      ],
      "metadata": {
        "id": "YjkYza00r6kG"
      }
    },
    {
      "cell_type": "markdown",
      "source": [
        "Below is an example of using variables."
      ],
      "metadata": {
        "id": "g3poDEVSqm_m"
      }
    },
    {
      "cell_type": "code",
      "source": [
        "length = 10\n",
        "width = 2\n",
        "area = length * width"
      ],
      "metadata": {
        "id": "4udl6fF-q3Uc"
      },
      "execution_count": null,
      "outputs": []
    },
    {
      "cell_type": "markdown",
      "source": [
        "The process of storing a value inside a variable is called **assignment**. Here we assign the length variable the value of 10. We assign the width variable the value of two and we assign the area variable with the result of the expression length times width."
      ],
      "metadata": {
        "id": "Fr2Am6G9rB3t"
      }
    },
    {
      "cell_type": "markdown",
      "source": [
        "An **expression** is a combination of numbers, symbols or other variables that produce a result when evaluated. In this example, we are multiplying the value of two variables to arrive at the value that we want."
      ],
      "metadata": {
        "id": "OZVDKS6rrlNe"
      }
    },
    {
      "cell_type": "markdown",
      "source": [
        "Finally, we can use print function to display the value of the variable area."
      ],
      "metadata": {
        "id": "C59_qz8mrpDG"
      }
    },
    {
      "cell_type": "code",
      "source": [
        "print(area)"
      ],
      "metadata": {
        "colab": {
          "base_uri": "https://localhost:8080/"
        },
        "id": "jkqbHA-Trx-t",
        "outputId": "3603f698-4791-4e27-b7ca-8a873960b9ad"
      },
      "execution_count": null,
      "outputs": [
        {
          "output_type": "stream",
          "name": "stdout",
          "text": [
            "20\n"
          ]
        }
      ]
    },
    {
      "cell_type": "markdown",
      "source": [
        "Then there is the **implicit conversion**. The interpreter automatically converts one data type into another."
      ],
      "metadata": {
        "id": "kALZ_dYAsy_9"
      }
    },
    {
      "cell_type": "code",
      "source": [
        "print(7 + 8.5)  # integer + float, computer automatically converting integer to float\n",
        "print(\"a\"+\"b\"+\"c\")"
      ],
      "metadata": {
        "colab": {
          "base_uri": "https://localhost:8080/"
        },
        "id": "7sx7Y1GIth9v",
        "outputId": "d6d337be-900d-4d8a-80ae-0e495399492d"
      },
      "execution_count": null,
      "outputs": [
        {
          "output_type": "stream",
          "name": "stdout",
          "text": [
            "15.5\n",
            "abc\n"
          ]
        }
      ]
    },
    {
      "cell_type": "markdown",
      "source": [
        "There is also an **explicit conversion**. In Python, to convert between one data type and another, we call a function with the name of the type we're converting to. "
      ],
      "metadata": {
        "id": "GFDmGU4UuEte"
      }
    },
    {
      "cell_type": "code",
      "source": [
        "base = 6\n",
        "height = 3\n",
        "area = (base*height)/2\n",
        "print(\"The area of the triangle is: \" + str(area)) # str() to convert integers to strings"
      ],
      "metadata": {
        "colab": {
          "base_uri": "https://localhost:8080/"
        },
        "id": "NAHbAT9Nu10-",
        "outputId": "79b2eb9c-81b7-44da-de44-a2e829c8e2e7"
      },
      "execution_count": null,
      "outputs": [
        {
          "output_type": "stream",
          "name": "stdout",
          "text": [
            "The area of the triangle is: 9.0\n"
          ]
        }
      ]
    },
    {
      "cell_type": "markdown",
      "source": [
        "### Functions"
      ],
      "metadata": {
        "id": "_CS2pwcnABRb"
      }
    },
    {
      "cell_type": "markdown",
      "source": [
        "As previously known, print(), type(), str() are examples of built-in functions in Python."
      ],
      "metadata": {
        "id": "UTSeXdNRF_kZ"
      }
    },
    {
      "cell_type": "markdown",
      "source": [
        "Below is an example of a function we created ourselves."
      ],
      "metadata": {
        "id": "XiAZa6rtAHr7"
      }
    },
    {
      "cell_type": "code",
      "source": [
        "def greeting(name, departement):\n",
        "  print(\"Welcome, \" + name)\n",
        "  print(\"You are part of \" + departement)"
      ],
      "metadata": {
        "id": "WHKe-GdAGJWZ"
      },
      "execution_count": null,
      "outputs": []
    },
    {
      "cell_type": "markdown",
      "source": [
        "Then we call the function."
      ],
      "metadata": {
        "id": "7ALW6I6PGV9J"
      }
    },
    {
      "cell_type": "code",
      "source": [
        "greeting(\"Roni\", \"IT Support\")\n",
        "greeting(\"Alisa\", \"Software Engineering\")"
      ],
      "metadata": {
        "colab": {
          "base_uri": "https://localhost:8080/"
        },
        "id": "GgBAwjLVGbTJ",
        "outputId": "31acb6ad-8cbd-4b75-cc48-ba2b628cf956"
      },
      "execution_count": null,
      "outputs": [
        {
          "output_type": "stream",
          "name": "stdout",
          "text": [
            "Welcome, Roni\n",
            "You are part of IT Support\n",
            "Welcome, Alisa\n",
            "You are part of Software Engineering\n"
          ]
        }
      ]
    },
    {
      "cell_type": "markdown",
      "source": [
        "**Return Statement** in Python are even more interesting because we can use them to return more than one value."
      ],
      "metadata": {
        "id": "xLl6NbvLH6SR"
      }
    },
    {
      "cell_type": "markdown",
      "source": [
        "Examples of its use."
      ],
      "metadata": {
        "id": "Qjwfz5awIIAx"
      }
    },
    {
      "cell_type": "code",
      "source": [
        "def area_triangle(base, height):\n",
        "  return base*height/2"
      ],
      "metadata": {
        "id": "IsUwKQgUIOwJ"
      },
      "execution_count": null,
      "outputs": []
    },
    {
      "cell_type": "markdown",
      "source": [
        "Then we input the value."
      ],
      "metadata": {
        "id": "hecDEzTGIZr6"
      }
    },
    {
      "cell_type": "code",
      "source": [
        "area_a = area_triangle(5,4)\n",
        "area_b = area_triangle(7,3)\n",
        "sum = area_a + area_b\n",
        "print(\"The sum of both areas is \" + str(sum))"
      ],
      "metadata": {
        "colab": {
          "base_uri": "https://localhost:8080/"
        },
        "id": "EsZddYqjIeY5",
        "outputId": "5fbb3e99-a594-40eb-f767-8f92e50df9f3"
      },
      "execution_count": null,
      "outputs": [
        {
          "output_type": "stream",
          "name": "stdout",
          "text": [
            "The sum of both areas is 20.5\n"
          ]
        }
      ]
    },
    {
      "cell_type": "markdown",
      "source": [
        "Another example of using a return statement."
      ],
      "metadata": {
        "id": "cysif0sFI6Xx"
      }
    },
    {
      "cell_type": "code",
      "source": [
        "def convert_seconds(seconds):\n",
        "  hours = seconds // 3600\n",
        "  minutes = (seconds - hours * 3600) // 60\n",
        "  remaining_seconds = seconds - hours * 3600 - minutes * 60\n",
        "  return hours, minutes, remaining_seconds\n",
        "\n",
        "hours, minutes, seconds = convert_seconds(5000)\n",
        "print(hours, minutes, seconds)"
      ],
      "metadata": {
        "colab": {
          "base_uri": "https://localhost:8080/"
        },
        "id": "1OaIcUiOJH1p",
        "outputId": "e494824f-5d50-4f4a-b527-10423b97341b"
      },
      "execution_count": null,
      "outputs": [
        {
          "output_type": "stream",
          "name": "stdout",
          "text": [
            "1 23 20\n"
          ]
        }
      ]
    },
    {
      "cell_type": "code",
      "source": [
        "def greetings(name):\n",
        "  print(\"Welcome \" + name)\n",
        "\n",
        "result = greetings(\"Christine\")"
      ],
      "metadata": {
        "colab": {
          "base_uri": "https://localhost:8080/"
        },
        "id": "1welopekJzjy",
        "outputId": "6d8f13b5-0454-4d04-bf2b-6b84cae1dfee"
      },
      "execution_count": null,
      "outputs": [
        {
          "output_type": "stream",
          "name": "stdout",
          "text": [
            "Welcome Christine\n"
          ]
        }
      ]
    },
    {
      "cell_type": "code",
      "source": [
        "print(result)"
      ],
      "metadata": {
        "colab": {
          "base_uri": "https://localhost:8080/"
        },
        "id": "k27w9Vm2LA5g",
        "outputId": "cafb69b3-270a-40b8-8b4c-305f8e8b0c31"
      },
      "execution_count": null,
      "outputs": [
        {
          "output_type": "stream",
          "name": "stdout",
          "text": [
            "None\n"
          ]
        }
      ]
    },
    {
      "cell_type": "markdown",
      "source": [
        "The code above produces **None**. None is a very special data type in Python used to indicate that things are empty or that they return nothing."
      ],
      "metadata": {
        "id": "c2F78vbvLZaR"
      }
    },
    {
      "cell_type": "markdown",
      "source": [
        "Using functions can make our code not only more readable but also now reusable."
      ],
      "metadata": {
        "id": "l16LgsPjO3JW"
      }
    },
    {
      "cell_type": "code",
      "source": [
        "def lucky_number(name):\n",
        "  number = len(name) * 9    # len() used to return the length of the string.\n",
        "  print(\"Hello \" + name + \". Your lucky number is \" + str(number))\n",
        "\n",
        "lucky_number(\"Kay\")\n",
        "lucky_number(\"Cameron\")"
      ],
      "metadata": {
        "colab": {
          "base_uri": "https://localhost:8080/"
        },
        "id": "2xdMB8L-QGFO",
        "outputId": "ded82ecc-edd1-41e4-978c-73d0315c0491"
      },
      "execution_count": null,
      "outputs": [
        {
          "output_type": "stream",
          "name": "stdout",
          "text": [
            "Hello Kay. Your lucky number is 27\n",
            "Hello Cameron. Your lucky number is 63\n"
          ]
        }
      ]
    },
    {
      "cell_type": "markdown",
      "source": [
        "**Note** : \n",
        "\n",
        "**Self-documenting** code is written in a way that's readable and doesn't conceal its intent. This principle can be applied to all aspects of writing code from picking your variable names to writing clear concise expressions.\n",
        "\n",
        "When we re-write code to be more self-documenting, we call this process **refactoring**."
      ],
      "metadata": {
        "id": "OL5nr9N8S6P1"
      }
    },
    {
      "cell_type": "markdown",
      "source": [
        "### Conditionals"
      ],
      "metadata": {
        "id": "msLypQ1LcQyV"
      }
    },
    {
      "cell_type": "markdown",
      "source": [
        "Example comparison operators :"
      ],
      "metadata": {
        "id": "bV3P-IrqdJGt"
      }
    },
    {
      "cell_type": "code",
      "source": [
        "print(10 > 1)\n",
        "print(\"cat\" == \"dog\")\n",
        "print(1 != 2)\n",
        "print(1 < \"1\") # this code will give an error, because different data type"
      ],
      "metadata": {
        "colab": {
          "base_uri": "https://localhost:8080/",
          "height": 252
        },
        "id": "olzcQRsbegod",
        "outputId": "3f23bad1-13f6-4761-8ed9-7608007ef4fc"
      },
      "execution_count": null,
      "outputs": [
        {
          "output_type": "stream",
          "name": "stdout",
          "text": [
            "True\n",
            "False\n",
            "True\n"
          ]
        },
        {
          "output_type": "error",
          "ename": "TypeError",
          "evalue": "ignored",
          "traceback": [
            "\u001b[0;31m---------------------------------------------------------------------------\u001b[0m",
            "\u001b[0;31mTypeError\u001b[0m                                 Traceback (most recent call last)",
            "\u001b[0;32m<ipython-input-9-e601d553b6ba>\u001b[0m in \u001b[0;36m<cell line: 4>\u001b[0;34m()\u001b[0m\n\u001b[1;32m      2\u001b[0m \u001b[0mprint\u001b[0m\u001b[0;34m(\u001b[0m\u001b[0;34m\"cat\"\u001b[0m \u001b[0;34m==\u001b[0m \u001b[0;34m\"dog\"\u001b[0m\u001b[0;34m)\u001b[0m\u001b[0;34m\u001b[0m\u001b[0;34m\u001b[0m\u001b[0m\n\u001b[1;32m      3\u001b[0m \u001b[0mprint\u001b[0m\u001b[0;34m(\u001b[0m\u001b[0;36m1\u001b[0m \u001b[0;34m!=\u001b[0m \u001b[0;36m2\u001b[0m\u001b[0;34m)\u001b[0m\u001b[0;34m\u001b[0m\u001b[0;34m\u001b[0m\u001b[0m\n\u001b[0;32m----> 4\u001b[0;31m \u001b[0mprint\u001b[0m\u001b[0;34m(\u001b[0m\u001b[0;36m1\u001b[0m \u001b[0;34m<\u001b[0m \u001b[0;34m\"1\"\u001b[0m\u001b[0;34m)\u001b[0m\u001b[0;34m\u001b[0m\u001b[0;34m\u001b[0m\u001b[0m\n\u001b[0m",
            "\u001b[0;31mTypeError\u001b[0m: '<' not supported between instances of 'int' and 'str'"
          ]
        }
      ]
    },
    {
      "cell_type": "markdown",
      "source": [
        "How about this :"
      ],
      "metadata": {
        "id": "1ypobMkUfrol"
      }
    },
    {
      "cell_type": "code",
      "source": [
        "print(1 == \"1\")"
      ],
      "metadata": {
        "colab": {
          "base_uri": "https://localhost:8080/"
        },
        "id": "3wHlkgaufupd",
        "outputId": "8670ac6c-fdbe-43d5-a27b-7cd30eab0cb0"
      },
      "execution_count": null,
      "outputs": [
        {
          "output_type": "stream",
          "name": "stdout",
          "text": [
            "False\n"
          ]
        }
      ]
    },
    {
      "cell_type": "markdown",
      "source": [
        "The code above will give a false result because it is known that there are two different data types."
      ],
      "metadata": {
        "id": "q6ZvVgkWgOe9"
      }
    },
    {
      "cell_type": "markdown",
      "source": [
        "Then here is an example of a logical operator:"
      ],
      "metadata": {
        "id": "guLQ5aMXgeEs"
      }
    },
    {
      "cell_type": "code",
      "source": [
        "print(\"Yello\" > \"Cyan\" and \"Brown\" > \"Magenta\")\n",
        "print(25 > 50 or 1 != 2)\n",
        "print(not 42 == \"Answer\")"
      ],
      "metadata": {
        "colab": {
          "base_uri": "https://localhost:8080/"
        },
        "id": "r6yvptmmgsLs",
        "outputId": "6bb1ec24-6187-4a4e-f10d-a71f857e1be0"
      },
      "execution_count": null,
      "outputs": [
        {
          "output_type": "stream",
          "name": "stdout",
          "text": [
            "False\n",
            "True\n",
            "True\n"
          ]
        }
      ]
    },
    {
      "cell_type": "markdown",
      "source": [
        "Below is an example of using **if** and **else** statements."
      ],
      "metadata": {
        "id": "3xc0-9VqlLYU"
      }
    },
    {
      "cell_type": "code",
      "source": [
        "def hint_username(username):\n",
        "  if len(username) < 3:\n",
        "    print(\"Invalid username. Must be at least 3 characters long\")"
      ],
      "metadata": {
        "id": "ne673pPrlYg1"
      },
      "execution_count": null,
      "outputs": []
    },
    {
      "cell_type": "code",
      "source": [
        "hint_username(\"Adi\")"
      ],
      "metadata": {
        "id": "tEessSxIlqes"
      },
      "execution_count": null,
      "outputs": []
    },
    {
      "cell_type": "markdown",
      "source": [
        "Code above not print something because the body of the if block will only execute when the condition evaluates to true; otherwise, it skipped."
      ],
      "metadata": {
        "id": "xBnLH9Bml30d"
      }
    },
    {
      "cell_type": "code",
      "source": [
        "def hint_username(username):\n",
        "  if len(username) < 3:\n",
        "    print(\"Invalid username. Must be at least 3 characters long\")\n",
        "  else:\n",
        "    print(\"Valid username\")"
      ],
      "metadata": {
        "id": "6CXUEpb1myNN"
      },
      "execution_count": null,
      "outputs": []
    },
    {
      "cell_type": "code",
      "source": [
        "hint_username(\"Adi\")"
      ],
      "metadata": {
        "colab": {
          "base_uri": "https://localhost:8080/"
        },
        "id": "mjKqRwkSm4kV",
        "outputId": "0a6c77fa-1bd3-44a6-bc94-c6969cd90708"
      },
      "execution_count": null,
      "outputs": [
        {
          "output_type": "stream",
          "name": "stdout",
          "text": [
            "Valid username\n"
          ]
        }
      ]
    },
    {
      "cell_type": "markdown",
      "source": [
        "Another example:"
      ],
      "metadata": {
        "id": "_okyxVJln6xc"
      }
    },
    {
      "cell_type": "code",
      "source": [
        "def is_even(number):\n",
        "  if number % 2 == 0:\n",
        "    return True\n",
        "  return False\n",
        "\n",
        "is_even(8)"
      ],
      "metadata": {
        "colab": {
          "base_uri": "https://localhost:8080/"
        },
        "id": "COWU2XNAn9ql",
        "outputId": "f3319b39-6096-417d-9dc7-40c5edf05b91"
      },
      "execution_count": null,
      "outputs": [
        {
          "output_type": "execute_result",
          "data": {
            "text/plain": [
              "True"
            ]
          },
          "metadata": {},
          "execution_count": 21
        }
      ]
    },
    {
      "cell_type": "markdown",
      "source": [
        "Recap:\n",
        "\n",
        "*   The **if statement** allows us to branch the execution based on a specific condition being true.\n",
        "*   The **else statement** lets us set a piece of code to run only when the condition of the if statement was false.\n",
        "*   **Return a value** inside an if block then the code after the block will only be executed if the condition was false.\n",
        "\n"
      ],
      "metadata": {
        "id": "WLiBMkA6oKHE"
      }
    },
    {
      "cell_type": "markdown",
      "source": [
        "Then below an example use **elif statement**."
      ],
      "metadata": {
        "id": "Rsl1wWJrpBXF"
      }
    },
    {
      "cell_type": "code",
      "source": [
        "def hint_usernames(username):\n",
        "  if len(username) < 3:\n",
        "    print(\"Invalid username. Must be at least 3 characters long\")\n",
        "  elif len(username) > 15:\n",
        "    print(\"Invalid username. Must be at most 15 characters long\")\n",
        "  else:\n",
        "    print(\"Valid username\")\n",
        "\n",
        "hint_usernames(\"Ronnie Fernandes\")"
      ],
      "metadata": {
        "id": "lPvIORoiUMFs",
        "outputId": "72aef278-57ce-4d82-c1d5-482fa3182279",
        "colab": {
          "base_uri": "https://localhost:8080/"
        }
      },
      "execution_count": 3,
      "outputs": [
        {
          "output_type": "stream",
          "name": "stdout",
          "text": [
            "Invalid username. Must be at most 15 characters long\n"
          ]
        }
      ]
    },
    {
      "cell_type": "markdown",
      "source": [],
      "metadata": {
        "id": "XG2VVnGJWc0E"
      }
    }
  ]
}