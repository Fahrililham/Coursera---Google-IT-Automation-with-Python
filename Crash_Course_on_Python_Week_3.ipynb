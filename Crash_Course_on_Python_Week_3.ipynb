{
  "nbformat": 4,
  "nbformat_minor": 0,
  "metadata": {
    "colab": {
      "provenance": [],
      "authorship_tag": "ABX9TyMboM+cWFovUyjML1td4L5v",
      "include_colab_link": true
    },
    "kernelspec": {
      "name": "python3",
      "display_name": "Python 3"
    },
    "language_info": {
      "name": "python"
    }
  },
  "cells": [
    {
      "cell_type": "markdown",
      "metadata": {
        "id": "view-in-github",
        "colab_type": "text"
      },
      "source": [
        "<a href=\"https://colab.research.google.com/github/Fahrililham/Coursera---Google-IT-Automation-with-Python/blob/main/Crash_Course_on_Python_Week_3.ipynb\" target=\"_parent\"><img src=\"https://colab.research.google.com/assets/colab-badge.svg\" alt=\"Open In Colab\"/></a>"
      ]
    },
    {
      "cell_type": "markdown",
      "source": [
        "## **While Loops, For Loops, Recursion**"
      ],
      "metadata": {
        "id": "KYn9y3v441Hp"
      }
    },
    {
      "cell_type": "markdown",
      "source": [
        "### **While Loops**"
      ],
      "metadata": {
        "id": "sBpjXJizj3C6"
      }
    },
    {
      "cell_type": "markdown",
      "source": [
        "> **While loops** instruct your computer to continuously execute your code based on the value of a condition."
      ],
      "metadata": {
        "id": "7WMxVAhikNHp"
      }
    },
    {
      "cell_type": "code",
      "source": [
        "x = 0          # initializing --> to give an initial value to a variable\n",
        "while x < 5:\n",
        "  print(\"Not there yet, x=\" + str(x))\n",
        "  x = x + 1\n",
        "print(\"x=\" + str(x))"
      ],
      "metadata": {
        "colab": {
          "base_uri": "https://localhost:8080/"
        },
        "id": "dkQ1kJycl_Ki",
        "outputId": "fdf12730-b4ff-4885-a115-f010d264395b"
      },
      "execution_count": null,
      "outputs": [
        {
          "output_type": "stream",
          "name": "stdout",
          "text": [
            "Not there yet, x=0\n",
            "Not there yet, x=1\n",
            "Not there yet, x=2\n",
            "Not there yet, x=3\n",
            "Not there yet, x=4\n",
            "x=5\n"
          ]
        }
      ]
    },
    {
      "cell_type": "markdown",
      "source": [
        "There is another example about while loop:"
      ],
      "metadata": {
        "id": "bdR3urgwnaep"
      }
    },
    {
      "cell_type": "code",
      "source": [
        "def attempts(n):\n",
        "  x = 1         # initializing --> to give an initial value to a variable\n",
        "  while x <= n:\n",
        "    print(\"Attempt \" + str(x))\n",
        "    x += 1\n",
        "  print(\"Done\")"
      ],
      "metadata": {
        "id": "iyuJUe1Rngm5"
      },
      "execution_count": null,
      "outputs": []
    },
    {
      "cell_type": "markdown",
      "source": [
        "And we try the code above with this:"
      ],
      "metadata": {
        "id": "JjmgLfhxnvsB"
      }
    },
    {
      "cell_type": "code",
      "source": [
        "attempts(5)"
      ],
      "metadata": {
        "colab": {
          "base_uri": "https://localhost:8080/"
        },
        "id": "UmJV4zt8n4T6",
        "outputId": "6305a7b8-971e-49d8-8ff3-098b8a6078a7"
      },
      "execution_count": null,
      "outputs": [
        {
          "output_type": "stream",
          "name": "stdout",
          "text": [
            "Attempt 1\n",
            "Attempt 2\n",
            "Attempt 3\n",
            "Attempt 4\n",
            "Attempt 5\n",
            "Done\n"
          ]
        }
      ]
    },
    {
      "cell_type": "markdown",
      "source": [
        "In another case the conditions used in while loops can also become more complex if we use the logical operators that we encountered when looking into branching, and, or, and not. This lets us combine the values of several expressions to get the result we want.\n",
        "\n",
        "\n",
        "\n",
        "```\n",
        "username = get_username()\n",
        "while not valid_username(username):\n",
        "  print(\"Invalid username\")\n",
        "  username = get_username()\n",
        "```\n",
        "\n"
      ],
      "metadata": {
        "id": "lDnwMs_dn86R"
      }
    },
    {
      "cell_type": "markdown",
      "source": [
        "**Why Initializing Variables Matters ?**\n",
        "\n",
        "So here are some kind of error:\n",
        "* **Error type: name error / undefined variable**\n",
        "\n",
        "  This error telling us that we're using a variable we haven't defined.\n",
        "\n",
        "* **Forget to initialize variables with the right value**\n",
        "\n",
        "  This happen if we reuse the variable without setting the correct value from the start, it will still have value from before.\n",
        "  \n",
        "  (**N.B.** : In this case, it might be harder to catch the problem because python doesn't raise an error. The problem here is that our product variable has the wrong value. )"
      ],
      "metadata": {
        "id": "ahuaQXLVsAm5"
      }
    },
    {
      "cell_type": "markdown",
      "source": [
        "The code in below can give us a **infinite loops**:\n",
        "\n",
        "```\n",
        "while x % 2 == 0:\n",
        "x = x / 2\n",
        "```\n",
        "\n",
        "So to avoid this infinite loops we can adding some code like this:\n",
        "\n",
        "```\n",
        "if x != 0:\n",
        "  while x % 2 == 0:\n",
        "    x = x / 2\n",
        "```\n",
        "or\n",
        "```\n",
        "while x != 0 and x % 2 == 0:\n",
        "  x = x / 2\n",
        "```"
      ],
      "metadata": {
        "id": "JH956sCW1Uq4"
      }
    },
    {
      "cell_type": "markdown",
      "source": [
        "In Python, we use the **break keyword** to signal that the current loop should stop running.\n",
        "```\n",
        "while True:\n",
        "  do_something_cool()\n",
        "  if user_requested_to_stop():\n",
        "    break\n",
        "```\n",
        "\n"
      ],
      "metadata": {
        "id": "B6P7Kr6Q3EEZ"
      }
    },
    {
      "cell_type": "markdown",
      "source": [
        "**How do you avoid the most common pitfalls when writing while loops?**\n",
        "* First, remember to initialize your variables\n",
        "* Second, check that your loops won't run forever."
      ],
      "metadata": {
        "id": "Ou0e2Acx37DZ"
      }
    },
    {
      "cell_type": "markdown",
      "source": [
        "### **For loops**"
      ],
      "metadata": {
        "id": "mEx5wm6m4TLJ"
      }
    },
    {
      "cell_type": "markdown",
      "source": [
        "> **For loop**: iterates over a sequence of values"
      ],
      "metadata": {
        "id": "RWrXA3pX4xwB"
      }
    },
    {
      "cell_type": "markdown",
      "source": [
        "This example for using for loops:"
      ],
      "metadata": {
        "id": "nX7CQlhxkn4f"
      }
    },
    {
      "cell_type": "code",
      "source": [
        "for x in range(5):\n",
        "  print(x)"
      ],
      "metadata": {
        "id": "LIEVsBKLkx4c",
        "outputId": "3c3760ac-a1b3-46f4-cf6b-5ce8febb0577",
        "colab": {
          "base_uri": "https://localhost:8080/"
        }
      },
      "execution_count": 1,
      "outputs": [
        {
          "output_type": "stream",
          "name": "stdout",
          "text": [
            "0\n",
            "1\n",
            "2\n",
            "3\n",
            "4\n"
          ]
        }
      ]
    },
    {
      "cell_type": "markdown",
      "source": [
        "Then here another examples:"
      ],
      "metadata": {
        "id": "ao087pWCk_Ps"
      }
    },
    {
      "cell_type": "code",
      "source": [
        "friends = ['Taylor', 'Alex', 'Pat', 'Eli']\n",
        "for friend in friends:\n",
        "  print(\"Hi \" + friend)"
      ],
      "metadata": {
        "id": "xlbZEj6llCyw",
        "outputId": "67cc67fe-c31f-4878-ea09-943fd28ae0c6",
        "colab": {
          "base_uri": "https://localhost:8080/"
        }
      },
      "execution_count": 2,
      "outputs": [
        {
          "output_type": "stream",
          "name": "stdout",
          "text": [
            "Hi Taylor\n",
            "Hi Alex\n",
            "Hi Pat\n",
            "Hi Eli\n"
          ]
        }
      ]
    },
    {
      "cell_type": "code",
      "source": [
        "values = [23, 52, 59, 37, 48]\n",
        "sum = 0\n",
        "length = 0\n",
        "for value in values:\n",
        "  sum += value\n",
        "  length += 1\n",
        "\n",
        "print(\"Total sum: \" + str(sum) + \" - Average: \" + str(sum/length))"
      ],
      "metadata": {
        "id": "on0P33LIlUT-",
        "outputId": "ea98cef4-5c24-46ca-81f2-808f2059828d",
        "colab": {
          "base_uri": "https://localhost:8080/"
        }
      },
      "execution_count": 3,
      "outputs": [
        {
          "output_type": "stream",
          "name": "stdout",
          "text": [
            "Total sum: 219 - Average: 43.8\n"
          ]
        }
      ]
    },
    {
      "cell_type": "markdown",
      "source": [
        "We will use for loops to automate tons of stuff like that:\n",
        "* Copy files to machines\n",
        "* Process the contents of files\n",
        "* Automatically install software"
      ],
      "metadata": {
        "id": "w6LoxY9Gl21S"
      }
    },
    {
      "cell_type": "markdown",
      "source": [
        "> Use **for loops** when there's a sequence of elements that you want to iterate.\n",
        "\n",
        "> Use **while loops** when you want to repeat an action until a condition changes."
      ],
      "metadata": {
        "id": "KG3JNtIzmo35"
      }
    },
    {
      "cell_type": "markdown",
      "source": [
        "This example of using **2 parameters**:"
      ],
      "metadata": {
        "id": "iIk0tGfOm9K9"
      }
    },
    {
      "cell_type": "code",
      "source": [
        "product = 1\n",
        "for n in range(1, 10):\n",
        "  product = product * n\n",
        "\n",
        "print(product)"
      ],
      "metadata": {
        "id": "gccQlF_gvNuF",
        "outputId": "11497dde-89ac-4793-b468-18a6f295b088",
        "colab": {
          "base_uri": "https://localhost:8080/"
        }
      },
      "execution_count": 4,
      "outputs": [
        {
          "output_type": "stream",
          "name": "stdout",
          "text": [
            "362880\n"
          ]
        }
      ]
    },
    {
      "cell_type": "markdown",
      "source": [
        "Based on the code above, if we use 0(zero) for the operation the result will be given 0(zero)."
      ],
      "metadata": {
        "id": "d9-7gz58vWhv"
      }
    },
    {
      "cell_type": "markdown",
      "source": [
        "Then below is an example of using **3 parameters**:"
      ],
      "metadata": {
        "id": "e3h5KF76vyLn"
      }
    },
    {
      "cell_type": "code",
      "source": [
        "def to_celcius(x):\n",
        "  return (x-32)*5/9"
      ],
      "metadata": {
        "id": "HjmZHgbUwBMh"
      },
      "execution_count": 5,
      "outputs": []
    },
    {
      "cell_type": "code",
      "source": [
        "for x in range(0, 101, 10):\n",
        "  print(x, to_celcius(x))"
      ],
      "metadata": {
        "id": "dGmz8OZDwLe6",
        "outputId": "fc2ac9e8-f725-4f88-f9af-89fb5fff2318",
        "colab": {
          "base_uri": "https://localhost:8080/"
        }
      },
      "execution_count": 6,
      "outputs": [
        {
          "output_type": "stream",
          "name": "stdout",
          "text": [
            "0 -17.77777777777778\n",
            "10 -12.222222222222221\n",
            "20 -6.666666666666667\n",
            "30 -1.1111111111111112\n",
            "40 4.444444444444445\n",
            "50 10.0\n",
            "60 15.555555555555555\n",
            "70 21.11111111111111\n",
            "80 26.666666666666668\n",
            "90 32.22222222222222\n",
            "100 37.77777777777778\n"
          ]
        }
      ]
    },
    {
      "cell_type": "markdown",
      "source": [
        "**Nested for loops** means write two for loops; one inside the other."
      ],
      "metadata": {
        "id": "y8pDKuxix8VR"
      }
    },
    {
      "cell_type": "markdown",
      "source": [
        "For instance:"
      ],
      "metadata": {
        "id": "UH2v26H405e2"
      }
    },
    {
      "cell_type": "code",
      "source": [
        "for left in range(7):\n",
        "  for right in range(left, 7):\n",
        "    print(\"[\" + str(left) + \"|\" + str(right) + \"]\", end=\" \")\n",
        "  print()"
      ],
      "metadata": {
        "id": "tbYWOSsM07xp",
        "outputId": "ad36c2cc-c8f5-4704-da75-22c2d50b49c4",
        "colab": {
          "base_uri": "https://localhost:8080/"
        }
      },
      "execution_count": 9,
      "outputs": [
        {
          "output_type": "stream",
          "name": "stdout",
          "text": [
            "[0|0] [0|1] [0|2] [0|3] [0|4] [0|5] [0|6] \n",
            "[1|1] [1|2] [1|3] [1|4] [1|5] [1|6] \n",
            "[2|2] [2|3] [2|4] [2|5] [2|6] \n",
            "[3|3] [3|4] [3|5] [3|6] \n",
            "[4|4] [4|5] [4|6] \n",
            "[5|5] [5|6] \n",
            "[6|6] \n"
          ]
        }
      ]
    },
    {
      "cell_type": "markdown",
      "source": [
        "The **end=\" \"** parameter is use to print to write something else instead of the newline character."
      ],
      "metadata": {
        "id": "KYz4dZxd1nJd"
      }
    },
    {
      "cell_type": "markdown",
      "source": [
        "Then here another example from nested for loops:"
      ],
      "metadata": {
        "id": "alW41ftP2Bu6"
      }
    },
    {
      "cell_type": "code",
      "source": [
        "teams = ['Dragons', 'Wolves', 'Pandas', 'Unicorns']\n",
        "for home_team in teams:\n",
        "  for away_team in teams:\n",
        "    if home_team != away_team:\n",
        "      print(home_team + \" vs \" + away_team)"
      ],
      "metadata": {
        "id": "Mxwf4vVM2HBM",
        "outputId": "0cb0f8a4-61b4-4119-c72d-9bda8cd5e7ec",
        "colab": {
          "base_uri": "https://localhost:8080/"
        }
      },
      "execution_count": 10,
      "outputs": [
        {
          "output_type": "stream",
          "name": "stdout",
          "text": [
            "Dragons vs Wolves\n",
            "Dragons vs Pandas\n",
            "Dragons vs Unicorns\n",
            "Wolves vs Dragons\n",
            "Wolves vs Pandas\n",
            "Wolves vs Unicorns\n",
            "Pandas vs Dragons\n",
            "Pandas vs Wolves\n",
            "Pandas vs Unicorns\n",
            "Unicorns vs Dragons\n",
            "Unicorns vs Wolves\n",
            "Unicorns vs Pandas\n"
          ]
        }
      ]
    },
    {
      "cell_type": "markdown",
      "source": [
        "Based on the code above the team don't playing against itself."
      ],
      "metadata": {
        "id": "qvChIKBi2g_K"
      }
    },
    {
      "cell_type": "markdown",
      "source": [
        "Nested for loops are a useful tool when solving problems that require them, but we need to be careful of where and how we use them."
      ],
      "metadata": {
        "id": "4SYS8scg21rM"
      }
    },
    {
      "cell_type": "markdown",
      "source": [
        "Afterward a common errors in for loops:"
      ],
      "metadata": {
        "id": "4BSCpESb3m0k"
      }
    },
    {
      "cell_type": "code",
      "source": [
        "for x in 25:\n",
        "  print(x)"
      ],
      "metadata": {
        "id": "1FXpJNI95QMw",
        "outputId": "3be568ff-de4c-47b5-88d8-a39b2a000bbf",
        "colab": {
          "base_uri": "https://localhost:8080/",
          "height": 183
        }
      },
      "execution_count": 11,
      "outputs": [
        {
          "output_type": "error",
          "ename": "TypeError",
          "evalue": "ignored",
          "traceback": [
            "\u001b[0;31m---------------------------------------------------------------------------\u001b[0m",
            "\u001b[0;31mTypeError\u001b[0m                                 Traceback (most recent call last)",
            "\u001b[0;32m<ipython-input-11-6ebb35eb535e>\u001b[0m in \u001b[0;36m<cell line: 1>\u001b[0;34m()\u001b[0m\n\u001b[0;32m----> 1\u001b[0;31m \u001b[0;32mfor\u001b[0m \u001b[0mx\u001b[0m \u001b[0;32min\u001b[0m \u001b[0;36m25\u001b[0m\u001b[0;34m:\u001b[0m\u001b[0;34m\u001b[0m\u001b[0;34m\u001b[0m\u001b[0m\n\u001b[0m\u001b[1;32m      2\u001b[0m   \u001b[0mprint\u001b[0m\u001b[0;34m(\u001b[0m\u001b[0mx\u001b[0m\u001b[0;34m)\u001b[0m\u001b[0;34m\u001b[0m\u001b[0;34m\u001b[0m\u001b[0m\n",
            "\u001b[0;31mTypeError\u001b[0m: 'int' object is not iterable"
          ]
        }
      ]
    },
    {
      "cell_type": "markdown",
      "source": [
        "We can see the code on above has problem such as that integers are not iterable."
      ],
      "metadata": {
        "id": "C4vdBBQ65lHA"
      }
    },
    {
      "cell_type": "markdown",
      "source": [
        "So ther are two solutions to this problem:\n",
        "\n",
        "* If we want to go from zero to 25 we use range function:"
      ],
      "metadata": {
        "id": "hMliC9Bh5qbs"
      }
    },
    {
      "cell_type": "code",
      "source": [
        "for x in range(25):\n",
        "  print(x)"
      ],
      "metadata": {
        "id": "JiVuSnVH6FR6",
        "outputId": "00d6409c-957c-4125-b148-b0df18d769a7",
        "colab": {
          "base_uri": "https://localhost:8080/"
        }
      },
      "execution_count": 12,
      "outputs": [
        {
          "output_type": "stream",
          "name": "stdout",
          "text": [
            "0\n",
            "1\n",
            "2\n",
            "3\n",
            "4\n",
            "5\n",
            "6\n",
            "7\n",
            "8\n",
            "9\n",
            "10\n",
            "11\n",
            "12\n",
            "13\n",
            "14\n",
            "15\n",
            "16\n",
            "17\n",
            "18\n",
            "19\n",
            "20\n",
            "21\n",
            "22\n",
            "23\n",
            "24\n"
          ]
        }
      ]
    },
    {
      "cell_type": "markdown",
      "source": [
        "* If we're trying to iterate over a list that has 25 as the only element, then it needs to be a list and that means writing it between square brackets:"
      ],
      "metadata": {
        "id": "tuVD4R8N6Mm_"
      }
    },
    {
      "cell_type": "code",
      "source": [
        "for x in [25]:\n",
        "  print(x)"
      ],
      "metadata": {
        "id": "sXU2irGD6IxK",
        "outputId": "a85c1cba-2665-41d3-b5c4-8d811ad34a43",
        "colab": {
          "base_uri": "https://localhost:8080/"
        }
      },
      "execution_count": 13,
      "outputs": [
        {
          "output_type": "stream",
          "name": "stdout",
          "text": [
            "25\n"
          ]
        }
      ]
    },
    {
      "cell_type": "markdown",
      "source": [
        "Another example:"
      ],
      "metadata": {
        "id": "QSRmnuVk6zdt"
      }
    },
    {
      "cell_type": "code",
      "source": [
        "def greet_friends(friends2):\n",
        "  for friend2 in friends2:\n",
        "    print(\"Hi \" + friend2)"
      ],
      "metadata": {
        "id": "E-FsFYMp6svt"
      },
      "execution_count": 14,
      "outputs": []
    },
    {
      "cell_type": "code",
      "source": [
        "greet_friends(['Taylor', 'Luisa', 'Jamaal', 'Eli'])"
      ],
      "metadata": {
        "id": "9eaEQyRK7Jaf",
        "outputId": "862b3400-b424-4299-e562-0d2ed72d013c",
        "colab": {
          "base_uri": "https://localhost:8080/"
        }
      },
      "execution_count": 18,
      "outputs": [
        {
          "output_type": "stream",
          "name": "stdout",
          "text": [
            "Hi Taylor\n",
            "Hi Luisa\n",
            "Hi Jamaal\n",
            "Hi Eli\n"
          ]
        }
      ]
    },
    {
      "cell_type": "markdown",
      "source": [
        "What if we use another way"
      ],
      "metadata": {
        "id": "5Iswn3ik7XWI"
      }
    },
    {
      "cell_type": "code",
      "source": [
        "greet_friends(\"Barry\")"
      ],
      "metadata": {
        "id": "CAknMz7v7M0k",
        "outputId": "698dcbbf-a88e-4e93-8749-2f98d96dfc63",
        "colab": {
          "base_uri": "https://localhost:8080/"
        }
      },
      "execution_count": 20,
      "outputs": [
        {
          "output_type": "stream",
          "name": "stdout",
          "text": [
            "Hi B\n",
            "Hi a\n",
            "Hi r\n",
            "Hi r\n",
            "Hi y\n"
          ]
        }
      ]
    },
    {
      "cell_type": "markdown",
      "source": [
        "This happens because **strings are iterable**."
      ],
      "metadata": {
        "id": "zoo_9Kmn71t1"
      }
    },
    {
      "cell_type": "markdown",
      "source": [
        "So to sum it up,\n",
        "\n",
        "* if you get an error that a certain type isn't iterable:\n",
        "  * you need to make sure the for loop is using a sequence of elements and not just one\n",
        "\n",
        "* if you find your code iterating through each letter of a string when you want it to do it for the whole string\n",
        "  * you probably want to have that string be a part of a list."
      ],
      "metadata": {
        "id": "8lQZ-pEK8FFz"
      }
    },
    {
      "cell_type": "markdown",
      "source": [],
      "metadata": {
        "id": "tcjMcTi19AeA"
      }
    }
  ]
}