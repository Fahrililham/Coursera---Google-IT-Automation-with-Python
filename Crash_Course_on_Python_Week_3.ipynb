{
  "nbformat": 4,
  "nbformat_minor": 0,
  "metadata": {
    "colab": {
      "provenance": [],
      "authorship_tag": "ABX9TyMGOus6yi6XLfW+RvYGiZWG",
      "include_colab_link": true
    },
    "kernelspec": {
      "name": "python3",
      "display_name": "Python 3"
    },
    "language_info": {
      "name": "python"
    }
  },
  "cells": [
    {
      "cell_type": "markdown",
      "metadata": {
        "id": "view-in-github",
        "colab_type": "text"
      },
      "source": [
        "<a href=\"https://colab.research.google.com/github/Fahrililham/Coursera---Google-IT-Automation-with-Python/blob/main/Crash_Course_on_Python_Week_3.ipynb\" target=\"_parent\"><img src=\"https://colab.research.google.com/assets/colab-badge.svg\" alt=\"Open In Colab\"/></a>"
      ]
    },
    {
      "cell_type": "markdown",
      "source": [
        "## **While Loops, For Loops, Recursion**"
      ],
      "metadata": {
        "id": "KYn9y3v441Hp"
      }
    },
    {
      "cell_type": "markdown",
      "source": [
        "### **While Loops**"
      ],
      "metadata": {
        "id": "sBpjXJizj3C6"
      }
    },
    {
      "cell_type": "markdown",
      "source": [
        "While loops instruct your computer to continuously execute your code based on the value of a condition."
      ],
      "metadata": {
        "id": "7WMxVAhikNHp"
      }
    },
    {
      "cell_type": "code",
      "source": [
        "x = 0       # initializing --> to give an initial value to a variable\n",
        "while x < 5:\n",
        "  print(\"Not there yet, x=\" + str(x))\n",
        "  x = x + 1\n",
        "print(\"x=\" + str(x))"
      ],
      "metadata": {
        "colab": {
          "base_uri": "https://localhost:8080/"
        },
        "id": "dkQ1kJycl_Ki",
        "outputId": "fdf12730-b4ff-4885-a115-f010d264395b"
      },
      "execution_count": 1,
      "outputs": [
        {
          "output_type": "stream",
          "name": "stdout",
          "text": [
            "Not there yet, x=0\n",
            "Not there yet, x=1\n",
            "Not there yet, x=2\n",
            "Not there yet, x=3\n",
            "Not there yet, x=4\n",
            "x=5\n"
          ]
        }
      ]
    },
    {
      "cell_type": "markdown",
      "source": [
        "There is another example about while loop:"
      ],
      "metadata": {
        "id": "bdR3urgwnaep"
      }
    },
    {
      "cell_type": "code",
      "source": [
        "def attempts(n):\n",
        "  x = 1         # initializing --> to give an initial value to a variable\n",
        "  while x <= n:\n",
        "    print(\"Attempt \" + str(x))\n",
        "    x += 1\n",
        "  print(\"Done\")"
      ],
      "metadata": {
        "id": "iyuJUe1Rngm5"
      },
      "execution_count": 2,
      "outputs": []
    },
    {
      "cell_type": "markdown",
      "source": [
        "And we try the code above with this:"
      ],
      "metadata": {
        "id": "JjmgLfhxnvsB"
      }
    },
    {
      "cell_type": "code",
      "source": [
        "attempts(5)"
      ],
      "metadata": {
        "colab": {
          "base_uri": "https://localhost:8080/"
        },
        "id": "UmJV4zt8n4T6",
        "outputId": "6305a7b8-971e-49d8-8ff3-098b8a6078a7"
      },
      "execution_count": 3,
      "outputs": [
        {
          "output_type": "stream",
          "name": "stdout",
          "text": [
            "Attempt 1\n",
            "Attempt 2\n",
            "Attempt 3\n",
            "Attempt 4\n",
            "Attempt 5\n",
            "Done\n"
          ]
        }
      ]
    },
    {
      "cell_type": "markdown",
      "source": [
        "In another case the conditions used in while loops can also become more complex if we use the logical operators that we encountered when looking into branching, and, or, and not. This lets us combine the values of several expressions to get the result we want.\n",
        "\n",
        "\n",
        "\n",
        "```\n",
        "username = get_username()\n",
        "while not valid_username(username):\n",
        "  print(\"Invalid username\")\n",
        "  username = get_username()\n",
        "```\n",
        "\n"
      ],
      "metadata": {
        "id": "lDnwMs_dn86R"
      }
    },
    {
      "cell_type": "markdown",
      "source": [
        "**Why Initializing Variables Matters ?**\n",
        "\n",
        "So here are some kind of error:\n",
        "* **Error type: name error / undefined variable**\n",
        "\n",
        "  This error telling us that we're using a variable we haven't defined.\n",
        "\n",
        "* **Forget to initialize variables with the right value**\n",
        "\n",
        "  This happen if we reuse the variable without setting the correct value from the start, it will still have value from before.\n",
        "  \n",
        "  (**N.B.** : In this case, it might be harder to catch the problem because python doesn't raise an error. The problem here is that our product variable has the wrong value. )"
      ],
      "metadata": {
        "id": "ahuaQXLVsAm5"
      }
    },
    {
      "cell_type": "markdown",
      "source": [
        "The code in below can give us a **infinite loops**:\n",
        "\n",
        "```\n",
        "while x % 2 == 0:\n",
        "x = x / 2\n",
        "```\n",
        "\n",
        "So to avoid this infinite loops we can adding some code like this:\n",
        "\n",
        "```\n",
        "if x != 0:\n",
        "  while x % 2 == 0:\n",
        "    x = x / 2\n",
        "```\n",
        "or\n",
        "```\n",
        "while x != 0 and x % 2 == 0:\n",
        "  x = x / 2\n",
        "```"
      ],
      "metadata": {
        "id": "JH956sCW1Uq4"
      }
    },
    {
      "cell_type": "markdown",
      "source": [
        "In Python, we use the **break keyword** to signal that the current loop should stop running.\n",
        "```\n",
        "while True:\n",
        "  do_something_cool()\n",
        "  if user_requested_to_stop():\n",
        "    break\n",
        "```\n",
        "\n"
      ],
      "metadata": {
        "id": "B6P7Kr6Q3EEZ"
      }
    },
    {
      "cell_type": "markdown",
      "source": [
        "**How do you avoid the most common pitfalls when writing while loops?**\n",
        "* First, remember to initialize your variables\n",
        "* Second, check that your loops won't run forever."
      ],
      "metadata": {
        "id": "Ou0e2Acx37DZ"
      }
    },
    {
      "cell_type": "markdown",
      "source": [
        "### **For loop**"
      ],
      "metadata": {
        "id": "mEx5wm6m4TLJ"
      }
    },
    {
      "cell_type": "markdown",
      "source": [],
      "metadata": {
        "id": "RWrXA3pX4xwB"
      }
    }
  ]
}