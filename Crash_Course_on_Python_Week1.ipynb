{
  "nbformat": 4,
  "nbformat_minor": 0,
  "metadata": {
    "colab": {
      "provenance": [],
      "authorship_tag": "ABX9TyMTBMr9RCABtBtahvsXt6FU",
      "include_colab_link": true
    },
    "kernelspec": {
      "name": "python3",
      "display_name": "Python 3"
    },
    "language_info": {
      "name": "python"
    }
  },
  "cells": [
    {
      "cell_type": "markdown",
      "metadata": {
        "id": "view-in-github",
        "colab_type": "text"
      },
      "source": [
        "<a href=\"https://colab.research.google.com/github/Fahrililham/Coursera---Google-IT-Automation-with-Python/blob/main/Week1.ipynb\" target=\"_parent\"><img src=\"https://colab.research.google.com/assets/colab-badge.svg\" alt=\"Open In Colab\"/></a>"
      ]
    },
    {
      "cell_type": "markdown",
      "source": [
        "# **Introduction to Pyhton !**"
      ],
      "metadata": {
        "id": "TIGvQOi_gURc"
      }
    },
    {
      "cell_type": "markdown",
      "source": [
        "There is first step introduction with write command to print \"Hello World!\"."
      ],
      "metadata": {
        "id": "1IyB7W7Cgj4z"
      }
    },
    {
      "cell_type": "code",
      "source": [
        "print(\"Hello World!\")"
      ],
      "metadata": {
        "id": "XVwwMLZDgxmr",
        "outputId": "1438381e-e952-4424-e20c-9e55b5dfc7e3",
        "colab": {
          "base_uri": "https://localhost:8080/"
        }
      },
      "execution_count": 1,
      "outputs": [
        {
          "output_type": "stream",
          "name": "stdout",
          "text": [
            "Hello World!\n"
          ]
        }
      ]
    },
    {
      "cell_type": "markdown",
      "source": [
        "How to print \"Hello World!\" in 10 times."
      ],
      "metadata": {
        "id": "7eLvxI4GoQUJ"
      }
    },
    {
      "cell_type": "code",
      "source": [
        "for i in range(10):\n",
        "  print(\"Hello World!\")"
      ],
      "metadata": {
        "id": "SyX7DEfQodXR",
        "outputId": "2a92a471-58b4-4549-f3e8-3613f25dda0a",
        "colab": {
          "base_uri": "https://localhost:8080/"
        }
      },
      "execution_count": 10,
      "outputs": [
        {
          "output_type": "stream",
          "name": "stdout",
          "text": [
            "Hello World!\n",
            "Hello World!\n",
            "Hello World!\n",
            "Hello World!\n",
            "Hello World!\n",
            "Hello World!\n",
            "Hello World!\n",
            "Hello World!\n",
            "Hello World!\n",
            "Hello World!\n"
          ]
        }
      ]
    },
    {
      "cell_type": "markdown",
      "source": [
        "This is another example."
      ],
      "metadata": {
        "id": "ztDq3qLRjktr"
      }
    },
    {
      "cell_type": "code",
      "source": [
        "name = \"Brian\"         # don't forget to add double quotes for a string \n",
        "print(\"Hello \" + name)"
      ],
      "metadata": {
        "id": "sXjmON2AjwPz",
        "outputId": "f9e00c50-cf84-4a9e-9ef8-a8f14c171e3d",
        "colab": {
          "base_uri": "https://localhost:8080/"
        }
      },
      "execution_count": 8,
      "outputs": [
        {
          "output_type": "stream",
          "name": "stdout",
          "text": [
            "Hello Brian\n"
          ]
        }
      ]
    },
    {
      "cell_type": "markdown",
      "source": [
        "Example small blocks of Python."
      ],
      "metadata": {
        "id": "KD1nEj2SoolR"
      }
    },
    {
      "cell_type": "code",
      "source": [
        "friends = ['Taylor', 'Alex', 'Pat', 'Eli']\n",
        "for friend in friends:\n",
        "  print(\"Hello \" + friend)"
      ],
      "metadata": {
        "id": "lf2iSUUaoxdJ",
        "outputId": "98befea0-8c77-407a-d301-b354a3058623",
        "colab": {
          "base_uri": "https://localhost:8080/"
        }
      },
      "execution_count": 11,
      "outputs": [
        {
          "output_type": "stream",
          "name": "stdout",
          "text": [
            "Hello Taylor\n",
            "Hello Alex\n",
            "Hello Pat\n",
            "Hello Eli\n"
          ]
        }
      ]
    },
    {
      "cell_type": "markdown",
      "source": [
        "Examples for math usage."
      ],
      "metadata": {
        "id": "QhC9jKT0lZ4C"
      }
    },
    {
      "cell_type": "code",
      "source": [
        "print(4+5)\n",
        "print(9*7)\n",
        "print(-1/4)\n",
        "print(1/3)\n",
        "print(((2050/5)-32)/9)\n",
        "print(2**10)      # it is used for power of "
      ],
      "metadata": {
        "id": "Kiy4C4S4lnWp",
        "outputId": "5663b423-fa1f-45f1-b811-7ac8cd18cc09",
        "colab": {
          "base_uri": "https://localhost:8080/"
        }
      },
      "execution_count": 9,
      "outputs": [
        {
          "output_type": "stream",
          "name": "stdout",
          "text": [
            "9\n",
            "63\n",
            "-0.25\n",
            "0.3333333333333333\n",
            "42.0\n",
            "1024\n"
          ]
        }
      ]
    },
    {
      "cell_type": "code",
      "source": [],
      "metadata": {
        "id": "OMtivL9umG-Y"
      },
      "execution_count": null,
      "outputs": []
    }
  ]
}
